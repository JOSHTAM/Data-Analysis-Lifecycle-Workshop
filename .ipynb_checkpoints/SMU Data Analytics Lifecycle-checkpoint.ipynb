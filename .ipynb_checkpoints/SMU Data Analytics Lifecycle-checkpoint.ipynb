{
 "cells": [
  {
   "cell_type": "markdown",
   "id": "d70f2c56",
   "metadata": {},
   "source": [
    "# Food Ordering and Delivery App - Exploratory Data Analysis\n",
    "\n",
    "In this notebook, we will do a through EDA of the dataset and try to find key insights by cross referencing different features."
   ]
  },
  {
   "cell_type": "markdown",
   "id": "30a5e768",
   "metadata": {},
   "source": [
    "Let us start by importing the required libraries"
   ]
  },
  {
   "cell_type": "code",
   "execution_count": 348,
   "id": "045aee0f",
   "metadata": {},
   "outputs": [],
   "source": [
    "# import libraries for data manipulation\n",
    "import numpy as np\n",
    "import pandas as pd\n",
    "\n",
    "# import libraries for data visualization\n",
    "import matplotlib.pyplot as plt\n",
    "import seaborn as sns"
   ]
  },
  {
   "cell_type": "markdown",
   "id": "266421e9",
   "metadata": {},
   "source": [
    "Understanding the structure of the data"
   ]
  },
  {
   "cell_type": "code",
   "execution_count": 349,
   "id": "39f59f1a",
   "metadata": {},
   "outputs": [],
   "source": [
    "# read the CSV file\n",
    "df_orig = pd.read_csv(\"food_order.csv\")"
   ]
  },
  {
   "cell_type": "code",
   "execution_count": 350,
   "id": "a4049655",
   "metadata": {},
   "outputs": [
    {
     "data": {
      "text/html": [
       "<div>\n",
       "<style scoped>\n",
       "    .dataframe tbody tr th:only-of-type {\n",
       "        vertical-align: middle;\n",
       "    }\n",
       "\n",
       "    .dataframe tbody tr th {\n",
       "        vertical-align: top;\n",
       "    }\n",
       "\n",
       "    .dataframe thead th {\n",
       "        text-align: right;\n",
       "    }\n",
       "</style>\n",
       "<table border=\"1\" class=\"dataframe\">\n",
       "  <thead>\n",
       "    <tr style=\"text-align: right;\">\n",
       "      <th></th>\n",
       "      <th>order_id</th>\n",
       "      <th>customer_id</th>\n",
       "      <th>restaurant_name</th>\n",
       "      <th>cuisine_type</th>\n",
       "      <th>cost_of_the_order</th>\n",
       "      <th>day_of_the_week</th>\n",
       "      <th>rating</th>\n",
       "      <th>food_preparation_time</th>\n",
       "      <th>delivery_time</th>\n",
       "    </tr>\n",
       "  </thead>\n",
       "  <tbody>\n",
       "    <tr>\n",
       "      <th>0</th>\n",
       "      <td>1477147</td>\n",
       "      <td>337525</td>\n",
       "      <td>Hangawi</td>\n",
       "      <td>Korean</td>\n",
       "      <td>30.75</td>\n",
       "      <td>Weekend</td>\n",
       "      <td>Not given</td>\n",
       "      <td>25</td>\n",
       "      <td>20</td>\n",
       "    </tr>\n",
       "    <tr>\n",
       "      <th>1</th>\n",
       "      <td>1477685</td>\n",
       "      <td>358141</td>\n",
       "      <td>Blue Ribbon Sushi Izakaya</td>\n",
       "      <td>Japanese</td>\n",
       "      <td>12.08</td>\n",
       "      <td>Weekend</td>\n",
       "      <td>Not given</td>\n",
       "      <td>25</td>\n",
       "      <td>23</td>\n",
       "    </tr>\n",
       "    <tr>\n",
       "      <th>2</th>\n",
       "      <td>1477070</td>\n",
       "      <td>66393</td>\n",
       "      <td>Cafe Habana</td>\n",
       "      <td>Mexican</td>\n",
       "      <td>12.23</td>\n",
       "      <td>Weekday</td>\n",
       "      <td>5</td>\n",
       "      <td>23</td>\n",
       "      <td>28</td>\n",
       "    </tr>\n",
       "    <tr>\n",
       "      <th>3</th>\n",
       "      <td>1477334</td>\n",
       "      <td>106968</td>\n",
       "      <td>Blue Ribbon Fried Chicken</td>\n",
       "      <td>American</td>\n",
       "      <td>29.20</td>\n",
       "      <td>Weekend</td>\n",
       "      <td>3</td>\n",
       "      <td>25</td>\n",
       "      <td>15</td>\n",
       "    </tr>\n",
       "    <tr>\n",
       "      <th>4</th>\n",
       "      <td>1478249</td>\n",
       "      <td>76942</td>\n",
       "      <td>Dirty Bird to Go</td>\n",
       "      <td>American</td>\n",
       "      <td>11.59</td>\n",
       "      <td>Weekday</td>\n",
       "      <td>4</td>\n",
       "      <td>25</td>\n",
       "      <td>24</td>\n",
       "    </tr>\n",
       "  </tbody>\n",
       "</table>\n",
       "</div>"
      ],
      "text/plain": [
       "   order_id  customer_id            restaurant_name cuisine_type  \\\n",
       "0   1477147       337525                    Hangawi       Korean   \n",
       "1   1477685       358141  Blue Ribbon Sushi Izakaya     Japanese   \n",
       "2   1477070        66393                Cafe Habana      Mexican   \n",
       "3   1477334       106968  Blue Ribbon Fried Chicken     American   \n",
       "4   1478249        76942           Dirty Bird to Go     American   \n",
       "\n",
       "   cost_of_the_order day_of_the_week     rating  food_preparation_time  \\\n",
       "0              30.75         Weekend  Not given                     25   \n",
       "1              12.08         Weekend  Not given                     25   \n",
       "2              12.23         Weekday          5                     23   \n",
       "3              29.20         Weekend          3                     25   \n",
       "4              11.59         Weekday          4                     25   \n",
       "\n",
       "   delivery_time  \n",
       "0             20  \n",
       "1             23  \n",
       "2             28  \n",
       "3             15  \n",
       "4             24  "
      ]
     },
     "execution_count": 350,
     "metadata": {},
     "output_type": "execute_result"
    }
   ],
   "source": [
    "df = df_orig.copy()\n",
    "\n",
    "# return the first 5 rows\n",
    "df.head()"
   ]
  },
  {
   "cell_type": "code",
   "execution_count": 351,
   "id": "bc15f3ba",
   "metadata": {},
   "outputs": [
    {
     "name": "stdout",
     "output_type": "stream",
     "text": [
      "There are 1898 Rows and 9 Columns in the given dataset\n"
     ]
    }
   ],
   "source": [
    "print(\"There are\", df.shape[0], \"Rows and\", df.shape[1], \"Columns in the given dataset\")"
   ]
  },
  {
   "cell_type": "code",
   "execution_count": 352,
   "id": "9afe9339",
   "metadata": {},
   "outputs": [
    {
     "name": "stdout",
     "output_type": "stream",
     "text": [
      "<class 'pandas.core.frame.DataFrame'>\n",
      "RangeIndex: 1898 entries, 0 to 1897\n",
      "Data columns (total 9 columns):\n",
      " #   Column                 Non-Null Count  Dtype  \n",
      "---  ------                 --------------  -----  \n",
      " 0   order_id               1898 non-null   int64  \n",
      " 1   customer_id            1898 non-null   int64  \n",
      " 2   restaurant_name        1898 non-null   object \n",
      " 3   cuisine_type           1898 non-null   object \n",
      " 4   cost_of_the_order      1898 non-null   float64\n",
      " 5   day_of_the_week        1898 non-null   object \n",
      " 6   rating                 1898 non-null   object \n",
      " 7   food_preparation_time  1898 non-null   int64  \n",
      " 8   delivery_time          1898 non-null   int64  \n",
      "dtypes: float64(1), int64(4), object(4)\n",
      "memory usage: 133.6+ KB\n"
     ]
    }
   ],
   "source": [
    "# Use info() to print a concise summary of the DataFrame\n",
    "df.info()"
   ]
  },
  {
   "cell_type": "markdown",
   "id": "496b926d",
   "metadata": {},
   "source": [
    " "
   ]
  },
  {
   "cell_type": "markdown",
   "id": "aab00d7b",
   "metadata": {},
   "source": [
    " "
   ]
  },
  {
   "cell_type": "markdown",
   "id": "ccb803d5",
   "metadata": {},
   "source": [
    " "
   ]
  },
  {
   "cell_type": "markdown",
   "id": "c4ade062",
   "metadata": {},
   "source": [
    "## Creating unclean data for the purpose of Data Cleaning/Data Transformation"
   ]
  },
  {
   "cell_type": "code",
   "execution_count": 388,
   "id": "c8ed9f32",
   "metadata": {},
   "outputs": [],
   "source": [
    "# Copy and store the dataframe in another df to make it unclean\n",
    "df_dirty = df_orig.copy()"
   ]
  },
  {
   "cell_type": "code",
   "execution_count": 389,
   "id": "9f275bc0",
   "metadata": {},
   "outputs": [],
   "source": [
    "# 1) Null Values in Cells: Set rating column \"Not given\" to NULLS\n",
    "df_dirty.replace({\"rating\":{\"Not given\":np.nan}}, inplace=True)"
   ]
  },
  {
   "cell_type": "code",
   "execution_count": 390,
   "id": "861c432f",
   "metadata": {},
   "outputs": [
    {
     "data": {
      "text/plain": [
       "10"
      ]
     },
     "execution_count": 390,
     "metadata": {},
     "output_type": "execute_result"
    }
   ],
   "source": [
    "# Set some of the \"cost_of_the_order\" columns as 0\n",
    "df_dirty.replace({\"cost_of_the_order\":{29.20:0}}, inplace=True)\n",
    "len(df_dirty[df_dirty[\"cost_of_the_order\"]==0])"
   ]
  },
  {
   "cell_type": "code",
   "execution_count": 391,
   "id": "0477cea5",
   "metadata": {},
   "outputs": [
    {
     "data": {
      "text/html": [
       "<div>\n",
       "<style scoped>\n",
       "    .dataframe tbody tr th:only-of-type {\n",
       "        vertical-align: middle;\n",
       "    }\n",
       "\n",
       "    .dataframe tbody tr th {\n",
       "        vertical-align: top;\n",
       "    }\n",
       "\n",
       "    .dataframe thead th {\n",
       "        text-align: right;\n",
       "    }\n",
       "</style>\n",
       "<table border=\"1\" class=\"dataframe\">\n",
       "  <thead>\n",
       "    <tr style=\"text-align: right;\">\n",
       "      <th></th>\n",
       "      <th>order_id</th>\n",
       "      <th>customer_id</th>\n",
       "      <th>restaurant_name</th>\n",
       "      <th>cuisine_type</th>\n",
       "      <th>cost_of_the_order</th>\n",
       "      <th>day_of_the_week</th>\n",
       "      <th>rating</th>\n",
       "      <th>food_preparation_time</th>\n",
       "      <th>delivery_time</th>\n",
       "      <th>voucher_used</th>\n",
       "    </tr>\n",
       "  </thead>\n",
       "  <tbody>\n",
       "    <tr>\n",
       "      <th>0</th>\n",
       "      <td>1477147</td>\n",
       "      <td>337525</td>\n",
       "      <td>Hangawi</td>\n",
       "      <td>Korean</td>\n",
       "      <td>30.75</td>\n",
       "      <td>Weekend</td>\n",
       "      <td>NaN</td>\n",
       "      <td>25</td>\n",
       "      <td>20</td>\n",
       "      <td>False</td>\n",
       "    </tr>\n",
       "    <tr>\n",
       "      <th>1</th>\n",
       "      <td>1477685</td>\n",
       "      <td>358141</td>\n",
       "      <td>Blue Ribbon Sushi Izakaya</td>\n",
       "      <td>Japanese</td>\n",
       "      <td>12.08</td>\n",
       "      <td>Weekend</td>\n",
       "      <td>NaN</td>\n",
       "      <td>25</td>\n",
       "      <td>23</td>\n",
       "      <td>False</td>\n",
       "    </tr>\n",
       "    <tr>\n",
       "      <th>2</th>\n",
       "      <td>1477070</td>\n",
       "      <td>66393</td>\n",
       "      <td>Cafe Habana</td>\n",
       "      <td>Mexican</td>\n",
       "      <td>12.23</td>\n",
       "      <td>Weekday</td>\n",
       "      <td>5</td>\n",
       "      <td>23</td>\n",
       "      <td>28</td>\n",
       "      <td>False</td>\n",
       "    </tr>\n",
       "    <tr>\n",
       "      <th>3</th>\n",
       "      <td>1477334</td>\n",
       "      <td>106968</td>\n",
       "      <td>Blue Ribbon Fried Chicken</td>\n",
       "      <td>American</td>\n",
       "      <td>0.00</td>\n",
       "      <td>Weekend</td>\n",
       "      <td>3</td>\n",
       "      <td>25</td>\n",
       "      <td>15</td>\n",
       "      <td>True</td>\n",
       "    </tr>\n",
       "    <tr>\n",
       "      <th>4</th>\n",
       "      <td>1478249</td>\n",
       "      <td>76942</td>\n",
       "      <td>Dirty Bird to Go</td>\n",
       "      <td>American</td>\n",
       "      <td>11.59</td>\n",
       "      <td>Weekday</td>\n",
       "      <td>4</td>\n",
       "      <td>25</td>\n",
       "      <td>24</td>\n",
       "      <td>False</td>\n",
       "    </tr>\n",
       "  </tbody>\n",
       "</table>\n",
       "</div>"
      ],
      "text/plain": [
       "   order_id  customer_id            restaurant_name cuisine_type  \\\n",
       "0   1477147       337525                    Hangawi       Korean   \n",
       "1   1477685       358141  Blue Ribbon Sushi Izakaya     Japanese   \n",
       "2   1477070        66393                Cafe Habana      Mexican   \n",
       "3   1477334       106968  Blue Ribbon Fried Chicken     American   \n",
       "4   1478249        76942           Dirty Bird to Go     American   \n",
       "\n",
       "   cost_of_the_order day_of_the_week rating  food_preparation_time  \\\n",
       "0              30.75         Weekend    NaN                     25   \n",
       "1              12.08         Weekend    NaN                     25   \n",
       "2              12.23         Weekday      5                     23   \n",
       "3               0.00         Weekend      3                     25   \n",
       "4              11.59         Weekday      4                     25   \n",
       "\n",
       "   delivery_time  voucher_used  \n",
       "0             20         False  \n",
       "1             23         False  \n",
       "2             28         False  \n",
       "3             15          True  \n",
       "4             24         False  "
      ]
     },
     "execution_count": 391,
     "metadata": {},
     "output_type": "execute_result"
    }
   ],
   "source": [
    "# 3) Bad Column Naming: Add a new column called \"voucher_used\" when \"cost_of_the_order\" is 0\n",
    "df_dirty[\"voucher_used\"] = np.where(df_dirty[\"cost_of_the_order\"]==0,True,False)\n",
    "df_dirty.head()"
   ]
  },
  {
   "cell_type": "code",
   "execution_count": 392,
   "id": "103993ba",
   "metadata": {},
   "outputs": [],
   "source": [
    "# 4) Duplicate Rows: Take some rows and append them back to cause duplicate rows\n",
    "dup_rows = df_dirty.iloc[[2,12,20,26,34,37,49]]\n",
    "df_dirty = df_dirty.append(dup_rows, ignore_index=True)"
   ]
  },
  {
   "cell_type": "code",
   "execution_count": 393,
   "id": "0b26f953",
   "metadata": {},
   "outputs": [
    {
     "name": "stdout",
     "output_type": "stream",
     "text": [
      "Number of duplicate rows:  7\n"
     ]
    }
   ],
   "source": [
    "# Count number of duplicate rows\n",
    "# df_dirty.groupby(df_dirty.columns.tolist(), as_index=False).size()\n",
    "print(\"Number of duplicate rows: \", len(df_dirty)-len(df_dirty.drop_duplicates()))"
   ]
  },
  {
   "cell_type": "markdown",
   "id": "3d347aeb",
   "metadata": {},
   "source": [
    " "
   ]
  },
  {
   "cell_type": "markdown",
   "id": "84922448",
   "metadata": {},
   "source": [
    " "
   ]
  },
  {
   "cell_type": "markdown",
   "id": "b5f96763",
   "metadata": {},
   "source": [
    " "
   ]
  },
  {
   "cell_type": "markdown",
   "id": "45442a1a",
   "metadata": {},
   "source": [
    "## Dirty Dataset: Start Here (Hide Above)"
   ]
  },
  {
   "cell_type": "code",
   "execution_count": 412,
   "id": "c628fcf4",
   "metadata": {
    "scrolled": true
   },
   "outputs": [
    {
     "data": {
      "text/html": [
       "<div>\n",
       "<style scoped>\n",
       "    .dataframe tbody tr th:only-of-type {\n",
       "        vertical-align: middle;\n",
       "    }\n",
       "\n",
       "    .dataframe tbody tr th {\n",
       "        vertical-align: top;\n",
       "    }\n",
       "\n",
       "    .dataframe thead th {\n",
       "        text-align: right;\n",
       "    }\n",
       "</style>\n",
       "<table border=\"1\" class=\"dataframe\">\n",
       "  <thead>\n",
       "    <tr style=\"text-align: right;\">\n",
       "      <th></th>\n",
       "      <th>order_id</th>\n",
       "      <th>customer_id</th>\n",
       "      <th>restaurant_name</th>\n",
       "      <th>cuisine_type</th>\n",
       "      <th>cost_of_the_order</th>\n",
       "      <th>day_of_the_week</th>\n",
       "      <th>rating</th>\n",
       "      <th>food_preparation_time</th>\n",
       "      <th>delivery_time</th>\n",
       "      <th>voucher_used</th>\n",
       "    </tr>\n",
       "  </thead>\n",
       "  <tbody>\n",
       "    <tr>\n",
       "      <th>0</th>\n",
       "      <td>1477147</td>\n",
       "      <td>337525</td>\n",
       "      <td>Hangawi</td>\n",
       "      <td>Korean</td>\n",
       "      <td>30.75</td>\n",
       "      <td>Weekend</td>\n",
       "      <td>Not given</td>\n",
       "      <td>25</td>\n",
       "      <td>20</td>\n",
       "      <td>False</td>\n",
       "    </tr>\n",
       "    <tr>\n",
       "      <th>1</th>\n",
       "      <td>1477685</td>\n",
       "      <td>358141</td>\n",
       "      <td>Blue Ribbon Sushi Izakaya</td>\n",
       "      <td>Japanese</td>\n",
       "      <td>12.08</td>\n",
       "      <td>Weekend</td>\n",
       "      <td>Not given</td>\n",
       "      <td>25</td>\n",
       "      <td>23</td>\n",
       "      <td>False</td>\n",
       "    </tr>\n",
       "    <tr>\n",
       "      <th>2</th>\n",
       "      <td>1477070</td>\n",
       "      <td>66393</td>\n",
       "      <td>Cafe Habana</td>\n",
       "      <td>Mexican</td>\n",
       "      <td>12.23</td>\n",
       "      <td>Weekday</td>\n",
       "      <td>5</td>\n",
       "      <td>23</td>\n",
       "      <td>28</td>\n",
       "      <td>False</td>\n",
       "    </tr>\n",
       "    <tr>\n",
       "      <th>3</th>\n",
       "      <td>1477334</td>\n",
       "      <td>106968</td>\n",
       "      <td>Blue Ribbon Fried Chicken</td>\n",
       "      <td>American</td>\n",
       "      <td>0.0</td>\n",
       "      <td>Weekend</td>\n",
       "      <td>3</td>\n",
       "      <td>25</td>\n",
       "      <td>15</td>\n",
       "      <td>True</td>\n",
       "    </tr>\n",
       "    <tr>\n",
       "      <th>4</th>\n",
       "      <td>1478249</td>\n",
       "      <td>76942</td>\n",
       "      <td>Dirty Bird to Go</td>\n",
       "      <td>American</td>\n",
       "      <td>11.59</td>\n",
       "      <td>Weekday</td>\n",
       "      <td>4</td>\n",
       "      <td>25</td>\n",
       "      <td>24</td>\n",
       "      <td>False</td>\n",
       "    </tr>\n",
       "    <tr>\n",
       "      <th>5</th>\n",
       "      <td>1477224</td>\n",
       "      <td>147468</td>\n",
       "      <td>Tamarind TriBeCa</td>\n",
       "      <td>Indian</td>\n",
       "      <td>25.22</td>\n",
       "      <td>Weekday</td>\n",
       "      <td>3</td>\n",
       "      <td>20</td>\n",
       "      <td>24</td>\n",
       "      <td>False</td>\n",
       "    </tr>\n",
       "    <tr>\n",
       "      <th>6</th>\n",
       "      <td>1477894</td>\n",
       "      <td>157711</td>\n",
       "      <td>The Meatball Shop</td>\n",
       "      <td>Italian</td>\n",
       "      <td>6.07</td>\n",
       "      <td>Weekend</td>\n",
       "      <td>Not given</td>\n",
       "      <td>28</td>\n",
       "      <td>21</td>\n",
       "      <td>False</td>\n",
       "    </tr>\n",
       "    <tr>\n",
       "      <th>7</th>\n",
       "      <td>1477859</td>\n",
       "      <td>89574</td>\n",
       "      <td>Barbounia</td>\n",
       "      <td>Mediterranean</td>\n",
       "      <td>5.97</td>\n",
       "      <td>Weekday</td>\n",
       "      <td>3</td>\n",
       "      <td>33</td>\n",
       "      <td>30</td>\n",
       "      <td>False</td>\n",
       "    </tr>\n",
       "    <tr>\n",
       "      <th>8</th>\n",
       "      <td>1477174</td>\n",
       "      <td>121706</td>\n",
       "      <td>Anjappar Chettinad</td>\n",
       "      <td>Indian</td>\n",
       "      <td>16.44</td>\n",
       "      <td>Weekday</td>\n",
       "      <td>5</td>\n",
       "      <td>21</td>\n",
       "      <td>26</td>\n",
       "      <td>False</td>\n",
       "    </tr>\n",
       "    <tr>\n",
       "      <th>9</th>\n",
       "      <td>1477311</td>\n",
       "      <td>39705</td>\n",
       "      <td>Bukhara Grill</td>\n",
       "      <td>Indian</td>\n",
       "      <td>7.18</td>\n",
       "      <td>Weekday</td>\n",
       "      <td>5</td>\n",
       "      <td>29</td>\n",
       "      <td>26</td>\n",
       "      <td>False</td>\n",
       "    </tr>\n",
       "    <tr>\n",
       "      <th>10</th>\n",
       "      <td>1477895</td>\n",
       "      <td>143926</td>\n",
       "      <td>Big Wong Restaurant</td>\n",
       "      <td>Chinese</td>\n",
       "      <td>5.92</td>\n",
       "      <td>Weekday</td>\n",
       "      <td>Not given</td>\n",
       "      <td>34</td>\n",
       "      <td>28</td>\n",
       "      <td>False</td>\n",
       "    </tr>\n",
       "    <tr>\n",
       "      <th>11</th>\n",
       "      <td>1478437</td>\n",
       "      <td>221206</td>\n",
       "      <td>Empanada Mama closed</td>\n",
       "      <td>Mexican</td>\n",
       "      <td>8.1</td>\n",
       "      <td>Weekend</td>\n",
       "      <td>5</td>\n",
       "      <td>23</td>\n",
       "      <td>22</td>\n",
       "      <td>False</td>\n",
       "    </tr>\n",
       "  </tbody>\n",
       "</table>\n",
       "</div>"
      ],
      "text/plain": [
       "   order_id customer_id            restaurant_name   cuisine_type  \\\n",
       "0   1477147      337525                    Hangawi         Korean   \n",
       "1   1477685      358141  Blue Ribbon Sushi Izakaya       Japanese   \n",
       "2   1477070       66393                Cafe Habana        Mexican   \n",
       "3   1477334      106968  Blue Ribbon Fried Chicken       American   \n",
       "4   1478249       76942           Dirty Bird to Go       American   \n",
       "5   1477224      147468           Tamarind TriBeCa         Indian   \n",
       "6   1477894      157711          The Meatball Shop        Italian   \n",
       "7   1477859       89574                  Barbounia  Mediterranean   \n",
       "8   1477174      121706         Anjappar Chettinad         Indian   \n",
       "9   1477311       39705              Bukhara Grill         Indian   \n",
       "10  1477895      143926        Big Wong Restaurant        Chinese   \n",
       "11  1478437      221206       Empanada Mama closed        Mexican   \n",
       "\n",
       "   cost_of_the_order day_of_the_week     rating food_preparation_time  \\\n",
       "0              30.75         Weekend  Not given                    25   \n",
       "1              12.08         Weekend  Not given                    25   \n",
       "2              12.23         Weekday          5                    23   \n",
       "3                0.0         Weekend          3                    25   \n",
       "4              11.59         Weekday          4                    25   \n",
       "5              25.22         Weekday          3                    20   \n",
       "6               6.07         Weekend  Not given                    28   \n",
       "7               5.97         Weekday          3                    33   \n",
       "8              16.44         Weekday          5                    21   \n",
       "9               7.18         Weekday          5                    29   \n",
       "10              5.92         Weekday  Not given                    34   \n",
       "11               8.1         Weekend          5                    23   \n",
       "\n",
       "   delivery_time voucher_used  \n",
       "0             20        False  \n",
       "1             23        False  \n",
       "2             28        False  \n",
       "3             15         True  \n",
       "4             24        False  \n",
       "5             24        False  \n",
       "6             21        False  \n",
       "7             30        False  \n",
       "8             26        False  \n",
       "9             26        False  \n",
       "10            28        False  \n",
       "11            22        False  "
      ]
     },
     "execution_count": 412,
     "metadata": {},
     "output_type": "execute_result"
    }
   ],
   "source": [
    "df_dirty.head(12)"
   ]
  },
  {
   "cell_type": "code",
   "execution_count": 413,
   "id": "adb06cea",
   "metadata": {},
   "outputs": [
    {
     "data": {
      "text/html": [
       "<div>\n",
       "<style scoped>\n",
       "    .dataframe tbody tr th:only-of-type {\n",
       "        vertical-align: middle;\n",
       "    }\n",
       "\n",
       "    .dataframe tbody tr th {\n",
       "        vertical-align: top;\n",
       "    }\n",
       "\n",
       "    .dataframe thead th {\n",
       "        text-align: right;\n",
       "    }\n",
       "</style>\n",
       "<table border=\"1\" class=\"dataframe\">\n",
       "  <thead>\n",
       "    <tr style=\"text-align: right;\">\n",
       "      <th></th>\n",
       "      <th>order_id</th>\n",
       "      <th>customer_id</th>\n",
       "      <th>restaurant_name</th>\n",
       "      <th>cuisine_type</th>\n",
       "      <th>cost_of_the_order</th>\n",
       "      <th>day_of_the_week</th>\n",
       "      <th>rating</th>\n",
       "      <th>food_preparation_time</th>\n",
       "      <th>delivery_time</th>\n",
       "      <th>voucher_used</th>\n",
       "    </tr>\n",
       "  </thead>\n",
       "  <tbody>\n",
       "    <tr>\n",
       "      <th>1891</th>\n",
       "      <td>1476981</td>\n",
       "      <td>138586</td>\n",
       "      <td>Shake Shack</td>\n",
       "      <td>American</td>\n",
       "      <td>5.82</td>\n",
       "      <td>Weekend</td>\n",
       "      <td>Not given</td>\n",
       "      <td>22</td>\n",
       "      <td>28</td>\n",
       "      <td>False</td>\n",
       "    </tr>\n",
       "    <tr>\n",
       "      <th>1892</th>\n",
       "      <td>1477473</td>\n",
       "      <td>97838</td>\n",
       "      <td>Han Dynasty</td>\n",
       "      <td>Chinese</td>\n",
       "      <td>29.15</td>\n",
       "      <td>Weekend</td>\n",
       "      <td>Not given</td>\n",
       "      <td>29</td>\n",
       "      <td>21</td>\n",
       "      <td>False</td>\n",
       "    </tr>\n",
       "    <tr>\n",
       "      <th>1893</th>\n",
       "      <td>1476701</td>\n",
       "      <td>292602</td>\n",
       "      <td>Chipotle Mexican Grill $1.99 Delivery</td>\n",
       "      <td>Mexican</td>\n",
       "      <td>22.31</td>\n",
       "      <td>Weekend</td>\n",
       "      <td>5</td>\n",
       "      <td>31</td>\n",
       "      <td>17</td>\n",
       "      <td>False</td>\n",
       "    </tr>\n",
       "    <tr>\n",
       "      <th>1894</th>\n",
       "      <td>1477421</td>\n",
       "      <td>397537</td>\n",
       "      <td>The Smile</td>\n",
       "      <td>American</td>\n",
       "      <td>12.18</td>\n",
       "      <td>Weekend</td>\n",
       "      <td>5</td>\n",
       "      <td>31</td>\n",
       "      <td>19</td>\n",
       "      <td>False</td>\n",
       "    </tr>\n",
       "    <tr>\n",
       "      <th>1895</th>\n",
       "      <td>1477819</td>\n",
       "      <td>35309</td>\n",
       "      <td>Blue Ribbon Sushi</td>\n",
       "      <td>Japanese</td>\n",
       "      <td>25.22</td>\n",
       "      <td>Weekday</td>\n",
       "      <td>Not given</td>\n",
       "      <td>31</td>\n",
       "      <td>24</td>\n",
       "      <td>False</td>\n",
       "    </tr>\n",
       "    <tr>\n",
       "      <th>1896</th>\n",
       "      <td>1477513</td>\n",
       "      <td>64151</td>\n",
       "      <td>Jack's Wife Freda</td>\n",
       "      <td>Mediterranean</td>\n",
       "      <td>12.18</td>\n",
       "      <td>Weekday</td>\n",
       "      <td>5</td>\n",
       "      <td>23</td>\n",
       "      <td>31</td>\n",
       "      <td>False</td>\n",
       "    </tr>\n",
       "    <tr>\n",
       "      <th>1897</th>\n",
       "      <td>1478056</td>\n",
       "      <td>120353</td>\n",
       "      <td>Blue Ribbon Sushi</td>\n",
       "      <td>Japanese</td>\n",
       "      <td>19.45</td>\n",
       "      <td>Weekend</td>\n",
       "      <td>Not given</td>\n",
       "      <td>28</td>\n",
       "      <td>24</td>\n",
       "      <td>False</td>\n",
       "    </tr>\n",
       "  </tbody>\n",
       "</table>\n",
       "</div>"
      ],
      "text/plain": [
       "     order_id customer_id                        restaurant_name  \\\n",
       "1891  1476981      138586                            Shake Shack   \n",
       "1892  1477473       97838                            Han Dynasty   \n",
       "1893  1476701      292602  Chipotle Mexican Grill $1.99 Delivery   \n",
       "1894  1477421      397537                              The Smile   \n",
       "1895  1477819       35309                      Blue Ribbon Sushi   \n",
       "1896  1477513       64151                      Jack's Wife Freda   \n",
       "1897  1478056      120353                      Blue Ribbon Sushi   \n",
       "\n",
       "       cuisine_type cost_of_the_order day_of_the_week     rating  \\\n",
       "1891       American              5.82         Weekend  Not given   \n",
       "1892        Chinese             29.15         Weekend  Not given   \n",
       "1893        Mexican             22.31         Weekend          5   \n",
       "1894       American             12.18         Weekend          5   \n",
       "1895       Japanese             25.22         Weekday  Not given   \n",
       "1896  Mediterranean             12.18         Weekday          5   \n",
       "1897       Japanese             19.45         Weekend  Not given   \n",
       "\n",
       "     food_preparation_time delivery_time voucher_used  \n",
       "1891                    22            28        False  \n",
       "1892                    29            21        False  \n",
       "1893                    31            17        False  \n",
       "1894                    31            19        False  \n",
       "1895                    31            24        False  \n",
       "1896                    23            31        False  \n",
       "1897                    28            24        False  "
      ]
     },
     "execution_count": 413,
     "metadata": {},
     "output_type": "execute_result"
    }
   ],
   "source": [
    "df_dirty.tail(7)"
   ]
  },
  {
   "cell_type": "markdown",
   "id": "d7174415",
   "metadata": {},
   "source": [
    " "
   ]
  },
  {
   "cell_type": "markdown",
   "id": "935cd363",
   "metadata": {},
   "source": [
    " "
   ]
  },
  {
   "cell_type": "markdown",
   "id": "81d3a7a4",
   "metadata": {},
   "source": [
    " "
   ]
  },
  {
   "cell_type": "markdown",
   "id": "448c0cd3",
   "metadata": {},
   "source": [
    "# Data Exploration, Cleaning and Pipelines"
   ]
  },
  {
   "cell_type": "markdown",
   "id": "7cae9dbf",
   "metadata": {},
   "source": [
    "### Data Exploration"
   ]
  },
  {
   "cell_type": "code",
   "execution_count": 414,
   "id": "bea56a08",
   "metadata": {},
   "outputs": [
    {
     "name": "stdout",
     "output_type": "stream",
     "text": [
      "The unique ratings are ['Not given' '5' '3' '4']\n",
      "The unique delivery times are ['20' '23' '28' '15' '24' '21' '30' '26' '22' '17' '25' '16' '29' '27'\n",
      " '18' '31' '32' '19' '33']\n",
      "The unique food preparation times are ['25' '23' '20' '28' '33' '21' '29' '34' '24' '30' '35' '32' '31' '27'\n",
      " '22' '26']\n"
     ]
    }
   ],
   "source": [
    "# Data Exploration: Examining the Values to understand the nature of the data\n",
    "print(\"The unique ratings are\", df_dirty[\"rating\"].unique())\n",
    "print(\"The unique delivery times are\", df_dirty[\"delivery_time\"].unique())\n",
    "print(\"The unique food preparation times are\", df_dirty[\"food_preparation_time\"].unique())"
   ]
  },
  {
   "cell_type": "code",
   "execution_count": 415,
   "id": "c4ab06eb",
   "metadata": {},
   "outputs": [
    {
     "name": "stdout",
     "output_type": "stream",
     "text": [
      "The number of cells with unwanted characters is:  191\n"
     ]
    }
   ],
   "source": [
    "# Optional: Using Python's Regular Expression Module to search for unwanted characters\n",
    "import re\n",
    "\n",
    "def find_dirty(string):\n",
    "    match = re.findall(r'[^0-9a-zA-Z ]', string)\n",
    "    if match:\n",
    "        return match\n",
    "    else:\n",
    "        return np.NaN\n",
    "\n",
    "df_counts = pd.DataFrame()\n",
    "df_counts[\"dirty\"] = df_dirty[\"restaurant_name\"].apply(lambda x: find_dirty(x))\n",
    "print(\"The number of cells with unwanted characters is: \", df_counts[\"dirty\"].notnull().sum())"
   ]
  },
  {
   "cell_type": "code",
   "execution_count": 416,
   "id": "4ee9b6fd",
   "metadata": {},
   "outputs": [
    {
     "data": {
      "text/plain": [
       "14                     Lucky's Famous Burgers\n",
       "40      Chipotle Mexican Grill $1.99 Delivery\n",
       "47                            Sarabeth's East\n",
       "54                          Jack's Wife Freda\n",
       "55                           Mamoun's Falafel\n",
       "                        ...                  \n",
       "1866                       Xi'an Famous Foods\n",
       "1869                              J. G. Melon\n",
       "1875                               Amy Ruth's\n",
       "1893    Chipotle Mexican Grill $1.99 Delivery\n",
       "1896                        Jack's Wife Freda\n",
       "Name: restaurant_name, Length: 191, dtype: object"
      ]
     },
     "execution_count": 416,
     "metadata": {},
     "output_type": "execute_result"
    }
   ],
   "source": [
    "# Show the cells with unwanted characters to get a sensing of the characters that need to be removed\n",
    "dirty_rows = df_counts[\"dirty\"][~df_counts[\"dirty\"].isnull()]\n",
    "df_dirty.iloc[list(dirty_rows.index.values)][\"restaurant_name\"]"
   ]
  },
  {
   "cell_type": "markdown",
   "id": "24824d29",
   "metadata": {},
   "source": [
    " "
   ]
  },
  {
   "cell_type": "markdown",
   "id": "4c3549fe",
   "metadata": {},
   "source": [
    "### Data Cleaning\n",
    "\n",
    "1) Replace NULLs with proper values"
   ]
  },
  {
   "cell_type": "code",
   "execution_count": 417,
   "id": "44945f53",
   "metadata": {},
   "outputs": [
    {
     "data": {
      "text/html": [
       "<div>\n",
       "<style scoped>\n",
       "    .dataframe tbody tr th:only-of-type {\n",
       "        vertical-align: middle;\n",
       "    }\n",
       "\n",
       "    .dataframe tbody tr th {\n",
       "        vertical-align: top;\n",
       "    }\n",
       "\n",
       "    .dataframe thead th {\n",
       "        text-align: right;\n",
       "    }\n",
       "</style>\n",
       "<table border=\"1\" class=\"dataframe\">\n",
       "  <thead>\n",
       "    <tr style=\"text-align: right;\">\n",
       "      <th></th>\n",
       "      <th>order_id</th>\n",
       "      <th>customer_id</th>\n",
       "      <th>restaurant_name</th>\n",
       "      <th>cuisine_type</th>\n",
       "      <th>cost_of_the_order</th>\n",
       "      <th>day_of_the_week</th>\n",
       "      <th>rating</th>\n",
       "      <th>food_preparation_time</th>\n",
       "      <th>delivery_time</th>\n",
       "      <th>voucher_used</th>\n",
       "    </tr>\n",
       "  </thead>\n",
       "  <tbody>\n",
       "    <tr>\n",
       "      <th>0</th>\n",
       "      <td>1477147</td>\n",
       "      <td>337525</td>\n",
       "      <td>Hangawi</td>\n",
       "      <td>Korean</td>\n",
       "      <td>30.75</td>\n",
       "      <td>Weekend</td>\n",
       "      <td>Not given</td>\n",
       "      <td>25</td>\n",
       "      <td>20</td>\n",
       "      <td>False</td>\n",
       "    </tr>\n",
       "    <tr>\n",
       "      <th>1</th>\n",
       "      <td>1477685</td>\n",
       "      <td>358141</td>\n",
       "      <td>Blue Ribbon Sushi Izakaya</td>\n",
       "      <td>Japanese</td>\n",
       "      <td>12.08</td>\n",
       "      <td>Weekend</td>\n",
       "      <td>Not given</td>\n",
       "      <td>25</td>\n",
       "      <td>23</td>\n",
       "      <td>False</td>\n",
       "    </tr>\n",
       "  </tbody>\n",
       "</table>\n",
       "</div>"
      ],
      "text/plain": [
       "  order_id customer_id            restaurant_name cuisine_type  \\\n",
       "0  1477147      337525                    Hangawi       Korean   \n",
       "1  1477685      358141  Blue Ribbon Sushi Izakaya     Japanese   \n",
       "\n",
       "  cost_of_the_order day_of_the_week     rating food_preparation_time  \\\n",
       "0             30.75         Weekend  Not given                    25   \n",
       "1             12.08         Weekend  Not given                    25   \n",
       "\n",
       "  delivery_time voucher_used  \n",
       "0            20        False  \n",
       "1            23        False  "
      ]
     },
     "execution_count": 417,
     "metadata": {},
     "output_type": "execute_result"
    }
   ],
   "source": [
    "# Replace nulls using .fillna method\n",
    "# FillNa Doc: https://pandas.pydata.org/docs/reference/api/pandas.DataFrame.fillna.html\n",
    "df_dirty[\"rating\"].fillna(\"Not given\", inplace = True)\n",
    "df_dirty.head(2)"
   ]
  },
  {
   "cell_type": "markdown",
   "id": "883002e8",
   "metadata": {},
   "source": [
    " "
   ]
  },
  {
   "cell_type": "markdown",
   "id": "c2662aef",
   "metadata": {},
   "source": [
    " "
   ]
  },
  {
   "cell_type": "markdown",
   "id": "869545a1",
   "metadata": {},
   "source": [
    "2) Regular Expression to remove unwanted characters in strings"
   ]
  },
  {
   "cell_type": "code",
   "execution_count": 418,
   "id": "56c9c347",
   "metadata": {},
   "outputs": [],
   "source": [
    "# Clean up unwanted characters in all Cells using .replace and regex\n",
    "# Generally we would only want to keep: Alphabets, Numbers and Whitespaces\n",
    "\n",
    "# Replace Doc: https://pandas.pydata.org/docs/reference/api/pandas.DataFrame.replace.html\n",
    "# Regex Tut: https://medium.com/factory-mind/regex-tutorial-a-simple-cheatsheet-by-examples-649dc1c3f285\n",
    "df_dirty.replace(to_replace=r\"[^0-9a-zA-Z\\'\\$\\. ]|^(')\", value='', regex=True, inplace=True)\n",
    "\n",
    "# Apply Doc: https://pandas.pydata.org/docs/reference/api/pandas.DataFrame.apply.html\n",
    "df_dirty = df_dirty.apply(lambda x: x.astype(str).str.strip() if isinstance(x, object) else x)"
   ]
  },
  {
   "cell_type": "code",
   "execution_count": 419,
   "id": "15ba6582",
   "metadata": {},
   "outputs": [
    {
     "data": {
      "text/plain": [
       "'Big Wong Restaurant'"
      ]
     },
     "execution_count": 419,
     "metadata": {},
     "output_type": "execute_result"
    }
   ],
   "source": [
    "df_dirty.iloc[10][\"restaurant_name\"]"
   ]
  },
  {
   "cell_type": "code",
   "execution_count": 420,
   "id": "57c3b1e8",
   "metadata": {},
   "outputs": [
    {
     "data": {
      "text/plain": [
       "'wichcraft'"
      ]
     },
     "execution_count": 420,
     "metadata": {},
     "output_type": "execute_result"
    }
   ],
   "source": [
    "df_dirty.iloc[1877][\"restaurant_name\"]"
   ]
  },
  {
   "cell_type": "code",
   "execution_count": 421,
   "id": "8f327c0a",
   "metadata": {},
   "outputs": [
    {
     "data": {
      "text/plain": [
       "\"Jack's Wife Freda\""
      ]
     },
     "execution_count": 421,
     "metadata": {},
     "output_type": "execute_result"
    }
   ],
   "source": [
    "df_dirty.iloc[1896][\"restaurant_name\"]"
   ]
  },
  {
   "cell_type": "code",
   "execution_count": 422,
   "id": "6db87716",
   "metadata": {},
   "outputs": [
    {
     "data": {
      "text/plain": [
       "'Chipotle Mexican Grill $1.99 Delivery'"
      ]
     },
     "execution_count": 422,
     "metadata": {},
     "output_type": "execute_result"
    }
   ],
   "source": [
    "df_dirty.iloc[40][\"restaurant_name\"]"
   ]
  },
  {
   "cell_type": "markdown",
   "id": "1aa5ef32",
   "metadata": {},
   "source": [
    " "
   ]
  },
  {
   "cell_type": "markdown",
   "id": "5720bdf0",
   "metadata": {},
   "source": [
    " "
   ]
  },
  {
   "cell_type": "markdown",
   "id": "cdb8239a",
   "metadata": {},
   "source": [
    "3) Removing Duplicates from Rows:"
   ]
  },
  {
   "cell_type": "code",
   "execution_count": 423,
   "id": "8785d7fe",
   "metadata": {},
   "outputs": [
    {
     "data": {
      "text/html": [
       "<div>\n",
       "<style scoped>\n",
       "    .dataframe tbody tr th:only-of-type {\n",
       "        vertical-align: middle;\n",
       "    }\n",
       "\n",
       "    .dataframe tbody tr th {\n",
       "        vertical-align: top;\n",
       "    }\n",
       "\n",
       "    .dataframe thead th {\n",
       "        text-align: right;\n",
       "    }\n",
       "</style>\n",
       "<table border=\"1\" class=\"dataframe\">\n",
       "  <thead>\n",
       "    <tr style=\"text-align: right;\">\n",
       "      <th></th>\n",
       "      <th>order_id</th>\n",
       "      <th>customer_id</th>\n",
       "      <th>restaurant_name</th>\n",
       "      <th>cuisine_type</th>\n",
       "      <th>cost_of_the_order</th>\n",
       "      <th>day_of_the_week</th>\n",
       "      <th>rating</th>\n",
       "      <th>food_preparation_time</th>\n",
       "      <th>delivery_time</th>\n",
       "      <th>voucher_used</th>\n",
       "    </tr>\n",
       "  </thead>\n",
       "  <tbody>\n",
       "    <tr>\n",
       "      <th>1893</th>\n",
       "      <td>1476701</td>\n",
       "      <td>292602</td>\n",
       "      <td>Chipotle Mexican Grill $1.99 Delivery</td>\n",
       "      <td>Mexican</td>\n",
       "      <td>22.31</td>\n",
       "      <td>Weekend</td>\n",
       "      <td>5</td>\n",
       "      <td>31</td>\n",
       "      <td>17</td>\n",
       "      <td>False</td>\n",
       "    </tr>\n",
       "    <tr>\n",
       "      <th>1894</th>\n",
       "      <td>1477421</td>\n",
       "      <td>397537</td>\n",
       "      <td>The Smile</td>\n",
       "      <td>American</td>\n",
       "      <td>12.18</td>\n",
       "      <td>Weekend</td>\n",
       "      <td>5</td>\n",
       "      <td>31</td>\n",
       "      <td>19</td>\n",
       "      <td>False</td>\n",
       "    </tr>\n",
       "    <tr>\n",
       "      <th>1895</th>\n",
       "      <td>1477819</td>\n",
       "      <td>35309</td>\n",
       "      <td>Blue Ribbon Sushi</td>\n",
       "      <td>Japanese</td>\n",
       "      <td>25.22</td>\n",
       "      <td>Weekday</td>\n",
       "      <td>Not given</td>\n",
       "      <td>31</td>\n",
       "      <td>24</td>\n",
       "      <td>False</td>\n",
       "    </tr>\n",
       "    <tr>\n",
       "      <th>1896</th>\n",
       "      <td>1477513</td>\n",
       "      <td>64151</td>\n",
       "      <td>Jack's Wife Freda</td>\n",
       "      <td>Mediterranean</td>\n",
       "      <td>12.18</td>\n",
       "      <td>Weekday</td>\n",
       "      <td>5</td>\n",
       "      <td>23</td>\n",
       "      <td>31</td>\n",
       "      <td>False</td>\n",
       "    </tr>\n",
       "    <tr>\n",
       "      <th>1897</th>\n",
       "      <td>1478056</td>\n",
       "      <td>120353</td>\n",
       "      <td>Blue Ribbon Sushi</td>\n",
       "      <td>Japanese</td>\n",
       "      <td>19.45</td>\n",
       "      <td>Weekend</td>\n",
       "      <td>Not given</td>\n",
       "      <td>28</td>\n",
       "      <td>24</td>\n",
       "      <td>False</td>\n",
       "    </tr>\n",
       "  </tbody>\n",
       "</table>\n",
       "</div>"
      ],
      "text/plain": [
       "     order_id customer_id                        restaurant_name  \\\n",
       "1893  1476701      292602  Chipotle Mexican Grill $1.99 Delivery   \n",
       "1894  1477421      397537                              The Smile   \n",
       "1895  1477819       35309                      Blue Ribbon Sushi   \n",
       "1896  1477513       64151                      Jack's Wife Freda   \n",
       "1897  1478056      120353                      Blue Ribbon Sushi   \n",
       "\n",
       "       cuisine_type cost_of_the_order day_of_the_week     rating  \\\n",
       "1893        Mexican             22.31         Weekend          5   \n",
       "1894       American             12.18         Weekend          5   \n",
       "1895       Japanese             25.22         Weekday  Not given   \n",
       "1896  Mediterranean             12.18         Weekday          5   \n",
       "1897       Japanese             19.45         Weekend  Not given   \n",
       "\n",
       "     food_preparation_time delivery_time voucher_used  \n",
       "1893                    31            17        False  \n",
       "1894                    31            19        False  \n",
       "1895                    31            24        False  \n",
       "1896                    23            31        False  \n",
       "1897                    28            24        False  "
      ]
     },
     "execution_count": 423,
     "metadata": {},
     "output_type": "execute_result"
    }
   ],
   "source": [
    "# Drop all duplicate rows while maintaining Index order\n",
    "# DropDuplicates Doc: https://pandas.pydata.org/docs/reference/api/pandas.DataFrame.drop_duplicates.html#pandas.DataFrame.drop_duplicates\n",
    "df_dirty.drop_duplicates(ignore_index=True, inplace=True)\n",
    "df_dirty.tail()"
   ]
  },
  {
   "cell_type": "markdown",
   "id": "a869272e",
   "metadata": {},
   "source": [
    " "
   ]
  },
  {
   "cell_type": "markdown",
   "id": "82a1d780",
   "metadata": {},
   "source": [
    " "
   ]
  },
  {
   "cell_type": "markdown",
   "id": "fb91cbcc",
   "metadata": {},
   "source": [
    "4) Rename boolean columns to follow naming convention"
   ]
  },
  {
   "cell_type": "code",
   "execution_count": 424,
   "id": "e43a9749",
   "metadata": {},
   "outputs": [
    {
     "data": {
      "text/html": [
       "<div>\n",
       "<style scoped>\n",
       "    .dataframe tbody tr th:only-of-type {\n",
       "        vertical-align: middle;\n",
       "    }\n",
       "\n",
       "    .dataframe tbody tr th {\n",
       "        vertical-align: top;\n",
       "    }\n",
       "\n",
       "    .dataframe thead th {\n",
       "        text-align: right;\n",
       "    }\n",
       "</style>\n",
       "<table border=\"1\" class=\"dataframe\">\n",
       "  <thead>\n",
       "    <tr style=\"text-align: right;\">\n",
       "      <th></th>\n",
       "      <th>order_id</th>\n",
       "      <th>customer_id</th>\n",
       "      <th>restaurant_name</th>\n",
       "      <th>cuisine_type</th>\n",
       "      <th>cost_of_the_order</th>\n",
       "      <th>day_of_the_week</th>\n",
       "      <th>rating</th>\n",
       "      <th>food_preparation_time</th>\n",
       "      <th>delivery_time</th>\n",
       "      <th>is_voucher_used</th>\n",
       "    </tr>\n",
       "  </thead>\n",
       "  <tbody>\n",
       "    <tr>\n",
       "      <th>0</th>\n",
       "      <td>1477147</td>\n",
       "      <td>337525</td>\n",
       "      <td>Hangawi</td>\n",
       "      <td>Korean</td>\n",
       "      <td>30.75</td>\n",
       "      <td>Weekend</td>\n",
       "      <td>Not given</td>\n",
       "      <td>25</td>\n",
       "      <td>20</td>\n",
       "      <td>False</td>\n",
       "    </tr>\n",
       "    <tr>\n",
       "      <th>1</th>\n",
       "      <td>1477685</td>\n",
       "      <td>358141</td>\n",
       "      <td>Blue Ribbon Sushi Izakaya</td>\n",
       "      <td>Japanese</td>\n",
       "      <td>12.08</td>\n",
       "      <td>Weekend</td>\n",
       "      <td>Not given</td>\n",
       "      <td>25</td>\n",
       "      <td>23</td>\n",
       "      <td>False</td>\n",
       "    </tr>\n",
       "    <tr>\n",
       "      <th>2</th>\n",
       "      <td>1477070</td>\n",
       "      <td>66393</td>\n",
       "      <td>Cafe Habana</td>\n",
       "      <td>Mexican</td>\n",
       "      <td>12.23</td>\n",
       "      <td>Weekday</td>\n",
       "      <td>5</td>\n",
       "      <td>23</td>\n",
       "      <td>28</td>\n",
       "      <td>False</td>\n",
       "    </tr>\n",
       "    <tr>\n",
       "      <th>3</th>\n",
       "      <td>1477334</td>\n",
       "      <td>106968</td>\n",
       "      <td>Blue Ribbon Fried Chicken</td>\n",
       "      <td>American</td>\n",
       "      <td>0.0</td>\n",
       "      <td>Weekend</td>\n",
       "      <td>3</td>\n",
       "      <td>25</td>\n",
       "      <td>15</td>\n",
       "      <td>True</td>\n",
       "    </tr>\n",
       "    <tr>\n",
       "      <th>4</th>\n",
       "      <td>1478249</td>\n",
       "      <td>76942</td>\n",
       "      <td>Dirty Bird to Go</td>\n",
       "      <td>American</td>\n",
       "      <td>11.59</td>\n",
       "      <td>Weekday</td>\n",
       "      <td>4</td>\n",
       "      <td>25</td>\n",
       "      <td>24</td>\n",
       "      <td>False</td>\n",
       "    </tr>\n",
       "  </tbody>\n",
       "</table>\n",
       "</div>"
      ],
      "text/plain": [
       "  order_id customer_id            restaurant_name cuisine_type  \\\n",
       "0  1477147      337525                    Hangawi       Korean   \n",
       "1  1477685      358141  Blue Ribbon Sushi Izakaya     Japanese   \n",
       "2  1477070       66393                Cafe Habana      Mexican   \n",
       "3  1477334      106968  Blue Ribbon Fried Chicken     American   \n",
       "4  1478249       76942           Dirty Bird to Go     American   \n",
       "\n",
       "  cost_of_the_order day_of_the_week     rating food_preparation_time  \\\n",
       "0             30.75         Weekend  Not given                    25   \n",
       "1             12.08         Weekend  Not given                    25   \n",
       "2             12.23         Weekday          5                    23   \n",
       "3               0.0         Weekend          3                    25   \n",
       "4             11.59         Weekday          4                    25   \n",
       "\n",
       "  delivery_time is_voucher_used  \n",
       "0            20           False  \n",
       "1            23           False  \n",
       "2            28           False  \n",
       "3            15            True  \n",
       "4            24           False  "
      ]
     },
     "execution_count": 424,
     "metadata": {},
     "output_type": "execute_result"
    }
   ],
   "source": [
    "# Rename columns using pandas .rename\n",
    "# Rename Doc: https://www.geeksforgeeks.org/how-to-rename-columns-in-pandas-dataframe/\n",
    "df_clean = df_dirty.rename(columns = {'voucher_used':'is_voucher_used'})\n",
    "df_clean.head()"
   ]
  },
  {
   "cell_type": "markdown",
   "id": "92a1223f",
   "metadata": {},
   "source": [
    " "
   ]
  },
  {
   "cell_type": "markdown",
   "id": "46aca924",
   "metadata": {},
   "source": [
    " "
   ]
  },
  {
   "cell_type": "markdown",
   "id": "b5346cf2",
   "metadata": {},
   "source": [
    " "
   ]
  },
  {
   "cell_type": "markdown",
   "id": "27e68daa",
   "metadata": {},
   "source": [
    "# Data Analysis and Visualization"
   ]
  },
  {
   "cell_type": "markdown",
   "id": "c0dc4e37",
   "metadata": {},
   "source": [
    "# Storytelling with Data\n"
   ]
  },
  {
   "cell_type": "code",
   "execution_count": null,
   "id": "ed78b18a",
   "metadata": {},
   "outputs": [],
   "source": []
  },
  {
   "cell_type": "code",
   "execution_count": null,
   "id": "ea87cd61",
   "metadata": {},
   "outputs": [],
   "source": []
  }
 ],
 "metadata": {
  "kernelspec": {
   "display_name": "Python 3 (ipykernel)",
   "language": "python",
   "name": "python3"
  },
  "language_info": {
   "codemirror_mode": {
    "name": "ipython",
    "version": 3
   },
   "file_extension": ".py",
   "mimetype": "text/x-python",
   "name": "python",
   "nbconvert_exporter": "python",
   "pygments_lexer": "ipython3",
   "version": "3.9.16"
  }
 },
 "nbformat": 4,
 "nbformat_minor": 5
}
